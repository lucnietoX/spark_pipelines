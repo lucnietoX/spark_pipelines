{
 "cells": [
  {
   "cell_type": "markdown",
   "metadata": {
    "application/vnd.databricks.v1+cell": {
     "cellMetadata": {
      "byteLimit": 2048000,
      "rowLimit": 10000
     },
     "inputWidgets": {},
     "nuid": "cf31efb3-a29d-4356-8bdd-162f92bd0f43",
     "showTitle": false,
     "title": ""
    }
   },
   "source": [
    "#Source of the Dataset:\n",
    "\n",
    "- URL: https://www.kaggle.com/datasets/thedevastator/unlock-profits-with-e-commerce-sales-data?select=Sale+Report.csv\n",
    "\n",
    "#Source of the Postal Code API:\n",
    "\n",
    "- URL: http://www.postalpincode.in"
   ]
  },
  {
   "cell_type": "code",
   "execution_count": 0,
   "metadata": {
    "application/vnd.databricks.v1+cell": {
     "cellMetadata": {
      "byteLimit": 2048000,
      "rowLimit": 10000
     },
     "inputWidgets": {},
     "nuid": "787104b9-9c5b-4127-bce9-0eb5383c6c34",
     "showTitle": true,
     "title": "Import"
    }
   },
   "outputs": [
    {
     "output_type": "display_data",
     "data": {
      "application/vnd.databricks.v1+bamboolib_hint": "{\"pd.DataFrames\": [], \"version\": \"0.0.1\"}",
      "text/plain": []
     },
     "metadata": {},
     "output_type": "display_data"
    }
   ],
   "source": [
    "import pyspark.sql.functions as F\n",
    "import pyspark.sql.window as W\n",
    "from datetime import datetime\n",
    "import requests\n",
    "import pandas as pd\n",
    "from pyspark.sql.types import StringType\n",
    "import delta"
   ]
  },
  {
   "cell_type": "code",
   "execution_count": 0,
   "metadata": {
    "application/vnd.databricks.v1+cell": {
     "cellMetadata": {
      "byteLimit": 2048000,
      "rowLimit": 10000
     },
     "inputWidgets": {},
     "nuid": "bbe85f0c-e789-4d01-a05b-ebf2dbcf33f3",
     "showTitle": true,
     "title": "Read"
    }
   },
   "outputs": [],
   "source": [
    "df = spark.read.format(\"csv\")\\\n",
    "          .option(\"header\", \"true\")\\\n",
    "          .load(\"dbfs:/FileStore/shared_uploads/youraccount@yourdomain.com/Amazon_Sale_Report-1.csv\")"
   ]
  },
  {
   "cell_type": "code",
   "execution_count": 0,
   "metadata": {
    "application/vnd.databricks.v1+cell": {
     "cellMetadata": {
      "byteLimit": 2048000,
      "rowLimit": 10000
     },
     "inputWidgets": {},
     "nuid": "4aca2e4a-b258-475e-b5ac-f0d3f8c9afc6",
     "showTitle": true,
     "title": "Standardising the column names"
    }
   },
   "outputs": [],
   "source": [
    "for i in df.columns:\n",
    "  n = i.strip().replace(\" \",\"_\").replace(\"-\",\"_\").lower()\n",
    "  df = df.withColumnRenamed(i,n.upper())\n",
    "#excluding unused cols:\n",
    "df_ren = df.drop(df.columns[-1])"
   ]
  },
  {
   "cell_type": "code",
   "execution_count": 0,
   "metadata": {
    "application/vnd.databricks.v1+cell": {
     "cellMetadata": {
      "byteLimit": 2048000,
      "rowLimit": 10000
     },
     "inputWidgets": {},
     "nuid": "19e68674-261f-401a-a6fd-f057e8f61f5d",
     "showTitle": true,
     "title": "Generate PK and removing possible duplicates"
    }
   },
   "outputs": [],
   "source": [
    "df_t = df_ren.withColumn(\"PK\", F.concat(\"order_id\",\"sku\"))\n",
    "df_transformed = df_t.withColumn(\"row_number\", F.row_number().over(W.Window.partitionBy(\"pk\").orderBy(\"order_id\")) )\n",
    "df_trs = df_transformed.filter(F.col(\"row_number\")==1).drop(\"row_number\")\n",
    "df_duplicates = df_transformed.filter(F.col(\"row_number\")>1).drop(\"row_number\")"
   ]
  },
  {
   "cell_type": "code",
   "execution_count": 0,
   "metadata": {
    "application/vnd.databricks.v1+cell": {
     "cellMetadata": {
      "byteLimit": 2048000,
      "rowLimit": 10000
     },
     "inputWidgets": {},
     "nuid": "3bab82b8-c0d1-4bdc-acdf-040228424ca1",
     "showTitle": true,
     "title": "Output duplicated data for logging purpose"
    }
   },
   "outputs": [],
   "source": [
    "datettm = datetime.now().strftime(\"%Y%m%d%H%M%S\")\n",
    "date = datetime.now().strftime(\"%Y-%m-%d\")\n",
    "df_duplicates.write.format(\"delta\").option(\"mode\",\"overwrite\").csv(path=\"/mnt/logging/{0}/ecommerce_duplicated_records_{1}\".format(date,datettm))"
   ]
  },
  {
   "cell_type": "code",
   "execution_count": 0,
   "metadata": {
    "application/vnd.databricks.v1+cell": {
     "cellMetadata": {
      "byteLimit": 2048000,
      "rowLimit": 10000
     },
     "inputWidgets": {},
     "nuid": "8ccc1d87-5b5f-4ca1-af3e-88376ce7158e",
     "showTitle": true,
     "title": "Generate Dim: Product"
    }
   },
   "outputs": [],
   "source": [
    "df_prd = df_trs.select(\"STYLE\",\"CATEGORY\",\"SIZE\",\"SKU\").distinct()\\\n",
    "               .withColumn(\"PRD_SK\", F.monotonically_increasing_id() )\\\n",
    "               .withColumn(\"PRD_BK\", F.col(\"SKU\") )\\\n",
    "               .withColumn(\"PRD_UPDATEDTT\", F.lit(datettm) )\n",
    "df_prd.write.format(\"delta\").mode(\"overwrite\").saveAsTable(\"dim_product\")"
   ]
  },
  {
   "cell_type": "code",
   "execution_count": 0,
   "metadata": {
    "application/vnd.databricks.v1+cell": {
     "cellMetadata": {
      "byteLimit": 2048000,
      "rowLimit": 10000
     },
     "inputWidgets": {},
     "nuid": "9c238dc2-0c97-40bd-8697-bac2c5c854f4",
     "showTitle": true,
     "title": "Dim_Status"
    }
   },
   "outputs": [],
   "source": [
    "df_status = df_trs.select(\"STATUS\").distinct()\\\n",
    "               .withColumn(\"STATUS_SK\", F.monotonically_increasing_id() )\\\n",
    "               .withColumn(\"STATUS_BK\", F.col(\"STATUS\") )\\\n",
    "               .withColumn(\"STATUS_UPDATEDTT\", F.lit(datettm) )\n",
    "df_status.write.format(\"delta\").mode(\"overwrite\").saveAsTable(\"dim_status\")"
   ]
  },
  {
   "cell_type": "code",
   "execution_count": 0,
   "metadata": {
    "application/vnd.databricks.v1+cell": {
     "cellMetadata": {
      "byteLimit": 2048000,
      "rowLimit": 10000
     },
     "inputWidgets": {},
     "nuid": "c42bcec6-5be6-4b7c-8f89-af72ec1bd224",
     "showTitle": true,
     "title": "Dim_Sales_Channel"
    }
   },
   "outputs": [],
   "source": [
    "df_s_channel = df_trs.select(\"SALES_CHANNEL\").distinct()\\\n",
    "               .withColumn(\"SALES_CHANNEL_SK\", F.monotonically_increasing_id() )\\\n",
    "               .withColumn(\"SALES_CHANNEL_BK\", F.col(\"SALES_CHANNEL\") )\\\n",
    "               .withColumn(\"SALES_CHANNEL_UPDATEDTT\", F.lit(datettm) )\n",
    "df_s_channel.write.format(\"delta\").mode(\"overwrite\").saveAsTable(\"dim_sales_channel\")"
   ]
  },
  {
   "cell_type": "code",
   "execution_count": 0,
   "metadata": {
    "application/vnd.databricks.v1+cell": {
     "cellMetadata": {
      "byteLimit": 2048000,
      "rowLimit": 10000
     },
     "inputWidgets": {},
     "nuid": "b90af09b-854d-4183-abf9-eee8052cd510",
     "showTitle": true,
     "title": "Dim_Courier"
    }
   },
   "outputs": [],
   "source": [
    "df_courier = df_trs.select(F.col(\"COURIER_STATUS\")).fillna(\"N.A.\").distinct()\\\n",
    "               .withColumn(\"COURIER_STATUS_SK\", F.monotonically_increasing_id() )\\\n",
    "               .withColumn(\"COURIER_STATUS_BK\", F.col(\"COURIER_STATUS\"))\\\n",
    "               .withColumn(\"COURIER_STATUS_UPDATEDTT\", F.lit(datettm) )\n",
    "df_courier.write.format(\"delta\").mode(\"overwrite\").saveAsTable(\"dim_courier\")"
   ]
  },
  {
   "cell_type": "code",
   "execution_count": 0,
   "metadata": {
    "application/vnd.databricks.v1+cell": {
     "cellMetadata": {
      "byteLimit": 2048000,
      "rowLimit": 10000
     },
     "inputWidgets": {},
     "nuid": "a350ddfc-8354-4366-a64c-0cbff32c882e",
     "showTitle": true,
     "title": "Dim_Currency"
    }
   },
   "outputs": [],
   "source": [
    "df_currency = df_trs.select(F.col(\"CURRENCY\")).fillna(\"N.A.\").distinct()\\\n",
    "               .withColumn(\"CURRENCY_SK\", F.monotonically_increasing_id() )\\\n",
    "               .withColumn(\"CURRENCY_BK\", F.col(\"CURRENCY\"))\\\n",
    "               .withColumn(\"CURRENCY_UPDATEDTT\", F.lit(datettm))\n",
    "df_currency.write.format(\"delta\").mode(\"overwrite\").saveAsTable(\"dim_currency\")"
   ]
  },
  {
   "cell_type": "code",
   "execution_count": 0,
   "metadata": {
    "application/vnd.databricks.v1+cell": {
     "cellMetadata": {
      "byteLimit": 2048000,
      "rowLimit": 10000
     },
     "inputWidgets": {},
     "nuid": "0c663644-ffe3-4b22-9e1c-86a4ef6cd816",
     "showTitle": true,
     "title": "Dim_Ship_Location"
    }
   },
   "outputs": [],
   "source": [
    "df_location = df_trs.select(\"SHIP_POSTAL_CODE\",\"SHIP_CITY\",\"SHIP_STATE\",\"SHIP_COUNTRY\").distinct()\\\n",
    "               .withColumn(\"LOCATION_SK\", F.monotonically_increasing_id() )\\\n",
    "               .withColumn(\"LOCATION_UPDATEDTT\", F.lit(datettm))\\\n",
    "               .withColumn(\"SHIP_CITY\", F.upper(\"SHIP_CITY\") )\\\n",
    "               .withColumn(\"SHIP_STATE\", F.upper(\"SHIP_STATE\") )\\\n",
    "               .withColumn(\"SHIP_COUNTRY\", F.upper(\"SHIP_COUNTRY\") )\\\n",
    "               .withColumn(\"LOCATION_BK\", F.concat(F.col(\"SHIP_POSTAL_CODE\"),F.lit(\"|\"),F.col(\"SHIP_CITY\"),F.lit(\"|\"),F.col(\"SHIP_STATE\"),F.lit(\"|\"),F.col(\"SHIP_COUNTRY\") ) )\n",
    "\n",
    "#adjust location (CITY) with postal code information\n",
    "def get_district_postal_code(postalcode):\n",
    "  dist=\"N/A\"\n",
    "  try:\n",
    "    url=\"https://api.postalpincode.in/pincode/{0}\".format(str(postalcode).split(\".\")[0])\n",
    "    print(url)\n",
    "    ret = requests.get(url)\n",
    "    if ret.json()[0][\"Status\"]==\"Success\":\n",
    "      df_pd = pd.DataFrame(ret.json())\n",
    "      dist = pd.json_normalize(df_pd.explode(\"PostOffice\")[\"PostOffice\"])[\"District\"].unique()[0].upper()\n",
    "  except Exception as e:\n",
    "    pass\n",
    "  return dist\n",
    "  \n",
    "udf_get_district_postal_code = F.udf(lambda x : get_district_postal_code(x), StringType())\n",
    "df_location_adj = df_location.withColumn(\"SHIP_CITY\", udf_get_district_postal_code(F.col(\"SHIP_POSTAL_CODE\") ))\n",
    "df_location_adj.write.format(\"delta\").partitionBy((\"SHIP_STATE\")).saveAsTable(\"dim_local\")"
   ]
  },
  {
   "cell_type": "code",
   "execution_count": 0,
   "metadata": {
    "application/vnd.databricks.v1+cell": {
     "cellMetadata": {
      "byteLimit": 2048000,
      "rowLimit": 10000
     },
     "inputWidgets": {},
     "nuid": "477efdcc-0f77-48bf-8057-45a321a0b70a",
     "showTitle": true,
     "title": "Fact Transaction"
    }
   },
   "outputs": [],
   "source": [
    "bk_location = F.concat(F.col(\"trs.SHIP_POSTAL_CODE\"),F.lit(\"|\"),\\\n",
    "                       F.col(\"trs.SHIP_CITY\"),F.lit(\"|\"),F.col(\"trs.SHIP_STATE\"),F.lit(\"|\"),F.col(\"trs.SHIP_COUNTRY\") )\n",
    "fact = df_trs.alias(\"trs\").join(df_prd.alias(\"prd\"), on=[F.col(\"trs.SKU\")==F.col(\"prd.PRD_BK\")],how=\"inner\")\\\n",
    "                   .join(df_status.alias(\"sts\"), on=[F.col(\"trs.STATUS\")==F.col(\"sts.STATUS_BK\")],how=\"inner\" )\\\n",
    "                   .join(df_s_channel.alias(\"sc\"), on=[F.col(\"trs.SALES_CHANNEL\")==F.col(\"sc.SALES_CHANNEL_BK\")],how=\"inner\" )\\\n",
    "                   .join(df_courier.alias(\"cs\"), on=[F.col(\"trs.COURIER_STATUS\")==F.col(\"cs.COURIER_STATUS_BK\")],how=\"inner\" )\\\n",
    "                   .join(df_currency.alias(\"cur\"), on=[F.col(\"trs.CURRENCY\")==F.col(\"cur.CURRENCY_BK\")],how=\"inner\" )\\\n",
    "                   .join(df_location.alias(\"loc\"), on=[bk_location==F.col(\"loc.LOCATION_BK\")],how=\"inner\" )\\\n",
    "                   .select(\"trs.ORDER_ID\",\"trs.DATE\",\"prd.PRD_SK\",\"sts.STATUS_SK\",\"sc.SALES_CHANNEL_SK\",\"cs.COURIER_STATUS_SK\",\\\n",
    "                           \"cur.CURRENCY_BK\",\"loc.LOCATION_SK\",\"trs.FULFILMENT\",\"trs.SHIP_SERVICE_LEVEL\",\"trs.ASIN\",\\\n",
    "                           \"trs.QTY\",\"trs.AMOUNT\",\"trs.B2B\",\"trs.FULFILLED_BY\")\\\n",
    "                   .withColumn(\"QTY\", F.col(\"QTY\").cast(\"integer\") )\\\n",
    "                   .withColumn(\"AMOUNT\",F.col(\"AMOUNT\").cast(\"double\"))\n",
    "fact.write.format(\"delta\").saveAsTable(\"fct_transaction_sales\")"
   ]
  }
 ],
 "metadata": {
  "application/vnd.databricks.v1+notebook": {
   "dashboards": [],
   "language": "python",
   "notebookMetadata": {
    "mostRecentlyExecutedCommandWithImplicitDF": {
     "commandId": 2779172381774858,
     "dataframes": [
      "_sqldf"
     ]
    },
    "pythonIndentUnit": 2
   },
   "notebookName": "INTEGRATION_ECOMMERCE",
   "widgets": {}
  }
 },
 "nbformat": 4,
 "nbformat_minor": 0
}
